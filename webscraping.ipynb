{
    "cells": [
        {
            "metadata": {},
            "cell_type": "code",
            "source": "import requests\nimport urllib.request\nimport pandas as pd\nimport csv\nfrom bs4 import BeautifulSoup\n",
            "execution_count": 18,
            "outputs": []
        },
        {
            "metadata": {},
            "cell_type": "code",
            "source": "\nurl = \"https://en.wikipedia.org/wiki/List_of_postal_codes_of_Canada:_M\"  # change to whatever your url is\n\nresponse = requests.get(url)\nprint(response.status_code)\n",
            "execution_count": 19,
            "outputs": [
                {
                    "output_type": "stream",
                    "text": "200\n",
                    "name": "stdout"
                }
            ]
        },
        {
            "metadata": {},
            "cell_type": "code",
            "source": "soup = BeautifulSoup(response.text,\"html.parser\")\n\ntable = soup.find('table',{\"class\":\"wikitable sortable\"})\ntr = table.findAll(['tr'])[0:181]",
            "execution_count": 71,
            "outputs": []
        },
        {
            "metadata": {},
            "cell_type": "code",
            "source": "op=[]\nfor i in range(1,len(tr)):\n    tds = tr[i].find_all('td')\n    l2=[tds[0].text.replace('\\n',''), tds[1].text.replace('\\n',''), tds[2].text.replace('\\n','')]\n    op.append(l2)\n\ndf=pd.DataFrame(op,columns=['Postal Code','Borough','Neighbourhood'])\ndf=df[df['Borough']!='Not assigned']\n",
            "execution_count": 79,
            "outputs": []
        },
        {
            "metadata": {},
            "cell_type": "code",
            "source": "df.shape",
            "execution_count": 82,
            "outputs": [
                {
                    "output_type": "execute_result",
                    "execution_count": 82,
                    "data": {
                        "text/plain": "(103, 3)"
                    },
                    "metadata": {}
                }
            ]
        },
        {
            "metadata": {},
            "cell_type": "code",
            "source": "",
            "execution_count": null,
            "outputs": []
        }
    ],
    "metadata": {
        "kernelspec": {
            "name": "python3",
            "display_name": "Python 3.7",
            "language": "python"
        },
        "language_info": {
            "name": "python",
            "version": "3.7.9",
            "mimetype": "text/x-python",
            "codemirror_mode": {
                "name": "ipython",
                "version": 3
            },
            "pygments_lexer": "ipython3",
            "nbconvert_exporter": "python",
            "file_extension": ".py"
        }
    },
    "nbformat": 4,
    "nbformat_minor": 1
}